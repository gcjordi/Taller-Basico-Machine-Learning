{
 "cells": [
  {
   "cell_type": "markdown",
   "metadata": {
    "colab_type": "text",
    "id": "CShHoIETww9b"
   },
   "source": [
    "# Introducción a Machine Learning en Salud - Diabetes (Parte 2 de 2)\n",
    "\n",
    "Juan Carlos Rincón Acuña, Ph.D.\n",
    "\n",
    "El objetivo principal de Machine Learning (ML) es predecir o describir el comportamiento de elementos medibles de la realidad a partir de información incompleta e incierta.\n",
    "\n",
    "Las condiciones de información incompleta e incierta hacen que modelos de las ciencias naturales no sean aplicables. Por eso gran parte de los métodos de ML estarán basados en intuiciones estadísticas y métodos computacionales.\n",
    "\n",
    "La correlación de variables debe ser guiada por expertos, los cuales determinan, desde el punto de vista científico, el soporte de una relación entre variables. Esto es fundamental, dado que para la máquina, una variable es solo un número. \n",
    "\n",
    "En esta segunda parte, vamos a entrenar algoritmos para que predigan diabetes, en pacientes que no pertenecen a la base de datos."
   ]
  },
  {
   "cell_type": "markdown",
   "metadata": {
    "colab_type": "text",
    "id": "U6r10J1qww9d"
   },
   "source": [
    "## Cadena de procesos en ML - O.S.E.M.N.\n",
    "* O - Obtaining; Obtener datos\n",
    "* S - Scrubbing; Limpiar los datos\n",
    "* E - Exploring; Visualizar los datos para encontrar patrones y relaciones. *Muchas veces este paso es transversal, en especial con (S)*\n",
    "* M - Modeling; Modelar los datos para predecir o describir un comportamiento\n",
    "* N - INterpreting; Interpretar los resultados de los modelos\n",
    "\n",
    "![](https://miro.medium.com/max/3870/1*eE8DP4biqtaIK3aIy1S2zA.png)\n",
    "\n",
    "\n",
    "### *En este vamos a realizar técnicas de Modelamiento (Entrenamiento) e Interpretación de los resultados.*"
   ]
  },
  {
   "cell_type": "code",
   "execution_count": 1,
   "metadata": {
    "colab": {
     "base_uri": "https://localhost:8080/",
     "height": 72
    },
    "colab_type": "code",
    "executionInfo": {
     "elapsed": 1479,
     "status": "ok",
     "timestamp": 1591014309721,
     "user": {
      "displayName": "Andres Cely Jimenez",
      "photoUrl": "https://lh3.googleusercontent.com/a-/AOh14GhYvJ5qpEaViPcpDONlZCHoJR2eIYSKFxHVrTo=s64",
      "userId": "11808887833195998682"
     },
     "user_tz": 300
    },
    "id": "ZNgxAVNBww9f",
    "outputId": "1a82076d-8b8f-4d86-f493-3434e5c052cf"
   },
   "outputs": [],
   "source": [
    "# Librerias necesarias\n",
    "# Gestion de datos\n",
    "import numpy as np\n",
    "import pandas as pd\n",
    "import seaborn as sns\n",
    "\n",
    "# Tratamiento de datos\n",
    "import sklearn.preprocessing as preprocessing\n",
    "from sklearn.model_selection import train_test_split\n",
    "\n",
    "# Visualización - Graficas\n",
    "import matplotlib.pyplot as plt\n",
    "import missingno as msno\n",
    "from mlxtend.plotting import plot_decision_regions\n",
    "#from sklearn.metrics import plot_confusion_matrix\n",
    "from IPython.display import display\n",
    "\n",
    "# Modelamiento\n",
    "from sklearn.linear_model import LogisticRegression\n",
    "from sklearn.ensemble import RandomForestClassifier\n",
    "from sklearn.neighbors import KNeighborsClassifier\n",
    "from sklearn.model_selection import GridSearchCV\n",
    "\n",
    "# Metricas\n",
    "from sklearn.metrics import confusion_matrix\n",
    "from sklearn.metrics import classification_report\n",
    "from sklearn.metrics import f1_score,accuracy_score,roc_curve,roc_auc_score\n",
    "\n",
    "# Valores iniciales\n",
    "import warnings\n",
    "warnings.filterwarnings('ignore') # Ignorar advertencias\n",
    "%matplotlib inline\n",
    "sns.set()"
   ]
  },
  {
   "cell_type": "markdown",
   "metadata": {
    "colab_type": "text",
    "id": "Sa7A_z7pww9l"
   },
   "source": [
    "## Modelamiento\n",
    "\n",
    "Antes de empezar a entrenar los modelos, es necesario tener en cuenta ciertas técnicas que permitiran evaluar e interpretar de mejor manera los resultados de los modelos.\n",
    "\n",
    "Una de las técnicas y quizas la mas importante para validar resultados es **Dividir los datos (Data-Split)**."
   ]
  },
  {
   "cell_type": "markdown",
   "metadata": {
    "colab_type": "text",
    "id": "n682K5fkww9m"
   },
   "source": [
    "### Data Split: Entrenamiento-Pruebas (Train-Test) y Validación Cruzada (Cross Validation)\n",
    "\n",
    "- **Train-Test:** Siempre es bueno contar con datos desonocidos para el modelo (diferentes con los que sería entrenado) para probar su desempeño, en lugar de probar con los mismos con los que fue entrenado.\n",
    "\n",
    "![](https://upload.wikimedia.org/wikipedia/commons/4/48/Metodo_de_retenci%C3%B3n.jpg)\n",
    "\n",
    "- **Cross Validation**: Cuando el los datos se dividen en entrenamiento y pruebas, puede ser posible que cierto tipo de datos vayan todos al conjunto de entrenamiento o al de prueba. Esto llevaría al modelo a funcionar mal, no aprendiendo de ese tipo de datos o por el contrario, aprendiendo demasiado de ese tipo de datos. Esto problemas se conocen como posible bajo-ajuste y sobre-ajuste respectivamente, y dentro de varias técnicas que pueden ayudar a evitarlo se encuentra la validación cruzada. ***La validación cruzada se hace sobre el conjunto de datos de entrenamiento (dejando los datos de prueba para unas pruebas finales despues de la validación cruzada)***.\n",
    "\n",
    "![](https://upload.wikimedia.org/wikipedia/commons/f/f2/K-fold_cross_validation.jpg)\n",
    "\n",
    "- ***Estratificar***: el parámetro *estratificar* hace una división de datos proporcional, lo que significa que divide los valores para cada conjunto de muestra de manera proporcional. Por ejemplo, si la variable objetivo es categórica binaria con valores unicamente de 0 y 1, con un 25% de ceros y un 75% de unos, estratificar asegurará de que su división aleatoria entre conjunto de entrenamiento, validación y pruebas tenga un 25% de 0s y un 75% de 1s cada uno.\n",
    "\n",
    "\n",
    "\n",
    "***En este primer caso haremos uso unicamente de Train-Test Split***\n",
    "\n",
    "*Más Información sobre División de datos:* https://towardsdatascience.com/train-test-split-and-cross-validation-in-python-80b61beca4b6"
   ]
  },
  {
   "cell_type": "code",
   "execution_count": 2,
   "metadata": {
    "colab": {
     "base_uri": "https://localhost:8080/",
     "height": 198
    },
    "colab_type": "code",
    "executionInfo": {
     "elapsed": 1349,
     "status": "ok",
     "timestamp": 1591014604177,
     "user": {
      "displayName": "Andres Cely Jimenez",
      "photoUrl": "https://lh3.googleusercontent.com/a-/AOh14GhYvJ5qpEaViPcpDONlZCHoJR2eIYSKFxHVrTo=s64",
      "userId": "11808887833195998682"
     },
     "user_tz": 300
    },
    "id": "HkOfNB46ww9n",
    "outputId": "07458b33-0be6-4072-dfef-5edc8f605b89"
   },
   "outputs": [
    {
     "data": {
      "text/html": [
       "<div>\n",
       "<style scoped>\n",
       "    .dataframe tbody tr th:only-of-type {\n",
       "        vertical-align: middle;\n",
       "    }\n",
       "\n",
       "    .dataframe tbody tr th {\n",
       "        vertical-align: top;\n",
       "    }\n",
       "\n",
       "    .dataframe thead th {\n",
       "        text-align: right;\n",
       "    }\n",
       "</style>\n",
       "<table border=\"1\" class=\"dataframe\">\n",
       "  <thead>\n",
       "    <tr style=\"text-align: right;\">\n",
       "      <th></th>\n",
       "      <th>Pregnancies</th>\n",
       "      <th>Glucose</th>\n",
       "      <th>BloodPressure</th>\n",
       "      <th>SkinThickness</th>\n",
       "      <th>Insulin</th>\n",
       "      <th>BMI</th>\n",
       "      <th>DiabetesPedigreeFunction</th>\n",
       "      <th>Age</th>\n",
       "    </tr>\n",
       "  </thead>\n",
       "  <tbody>\n",
       "    <tr>\n",
       "      <th>0</th>\n",
       "      <td>0.639947</td>\n",
       "      <td>0.865108</td>\n",
       "      <td>-0.033518</td>\n",
       "      <td>0.670643</td>\n",
       "      <td>-0.181541</td>\n",
       "      <td>0.166619</td>\n",
       "      <td>0.468492</td>\n",
       "      <td>1.425995</td>\n",
       "    </tr>\n",
       "    <tr>\n",
       "      <th>1</th>\n",
       "      <td>-0.844885</td>\n",
       "      <td>-1.206162</td>\n",
       "      <td>-0.529859</td>\n",
       "      <td>-0.012301</td>\n",
       "      <td>-0.181541</td>\n",
       "      <td>-0.852200</td>\n",
       "      <td>-0.365061</td>\n",
       "      <td>-0.190672</td>\n",
       "    </tr>\n",
       "    <tr>\n",
       "      <th>2</th>\n",
       "      <td>1.233880</td>\n",
       "      <td>2.015813</td>\n",
       "      <td>-0.695306</td>\n",
       "      <td>-0.012301</td>\n",
       "      <td>-0.181541</td>\n",
       "      <td>-1.332500</td>\n",
       "      <td>0.604397</td>\n",
       "      <td>-0.105584</td>\n",
       "    </tr>\n",
       "    <tr>\n",
       "      <th>3</th>\n",
       "      <td>-0.844885</td>\n",
       "      <td>-1.074652</td>\n",
       "      <td>-0.529859</td>\n",
       "      <td>-0.695245</td>\n",
       "      <td>-0.540642</td>\n",
       "      <td>-0.633881</td>\n",
       "      <td>-0.920763</td>\n",
       "      <td>-1.041549</td>\n",
       "    </tr>\n",
       "    <tr>\n",
       "      <th>4</th>\n",
       "      <td>-1.141852</td>\n",
       "      <td>0.503458</td>\n",
       "      <td>-2.680669</td>\n",
       "      <td>0.670643</td>\n",
       "      <td>0.316566</td>\n",
       "      <td>1.549303</td>\n",
       "      <td>5.484909</td>\n",
       "      <td>-0.020496</td>\n",
       "    </tr>\n",
       "  </tbody>\n",
       "</table>\n",
       "</div>"
      ],
      "text/plain": [
       "   Pregnancies   Glucose  BloodPressure  SkinThickness   Insulin       BMI  \\\n",
       "0     0.639947  0.865108      -0.033518       0.670643 -0.181541  0.166619   \n",
       "1    -0.844885 -1.206162      -0.529859      -0.012301 -0.181541 -0.852200   \n",
       "2     1.233880  2.015813      -0.695306      -0.012301 -0.181541 -1.332500   \n",
       "3    -0.844885 -1.074652      -0.529859      -0.695245 -0.540642 -0.633881   \n",
       "4    -1.141852  0.503458      -2.680669       0.670643  0.316566  1.549303   \n",
       "\n",
       "   DiabetesPedigreeFunction       Age  \n",
       "0                  0.468492  1.425995  \n",
       "1                 -0.365061 -0.190672  \n",
       "2                  0.604397 -0.105584  \n",
       "3                 -0.920763 -1.041549  \n",
       "4                  5.484909 -0.020496  "
      ]
     },
     "metadata": {},
     "output_type": "display_data"
    }
   ],
   "source": [
    "# Cargar los datos ajustados y limpios\n",
    "\n",
    "# data = pd.read_csv('data_norm.csv')\n",
    "data = pd.read_csv('data_sc.csv')\n",
    "\n",
    "X = data.drop([\"Outcome\"],axis = 1)\n",
    "y = data.Outcome\n",
    "# Validar\n",
    "display(X.head())"
   ]
  },
  {
   "cell_type": "code",
   "execution_count": 3,
   "metadata": {
    "colab": {},
    "colab_type": "code",
    "id": "Ix0Dta1_ww9x",
    "scrolled": true
   },
   "outputs": [],
   "source": [
    "# Train-Test Split - Tamaño de división: 2/3 Train, 1/3 Test\n",
    "X_train,X_test,y_train,y_test = train_test_split(X,y,test_size=1/3,random_state=42, stratify=y)"
   ]
  },
  {
   "cell_type": "markdown",
   "metadata": {
    "colab_type": "text",
    "id": "y-po0qc3ww-A"
   },
   "source": [
    "### Entrenamiento\n",
    "\n",
    "Para generar una predicción acertada de Diabetes, vamos a entrenar tres tipos de modelos y compararlos, de manera que podamos seleccionar aquel con el mejor desempeño. Para este ejercicio hemos decido usar los siguientes:\n",
    "\n",
    "- **K-Nearest Neighbors (KNN, vecinos cercanos)**: Busca predecir un nuevo \"caso\" basado en la distancia y cantidad de vecinos \"casos\" anteriores que haya aprendido. \n",
    "\n",
    "![](https://www.saedsayad.com/images/KNN_similarity.png)\n",
    "![](https://www.saedsayad.com/images/KNN_example_1.png)\n",
    "\n",
    "- **Logistic Regresion**: Busca una \"curva\" que acerque los puntos o casos aprendidos, con el fin de predecir nuevos casos o eventos\n",
    "\n",
    "![](http://juangabrielgomila.com/wp-content/uploads/2015/04/LogReg_1.png)\n",
    "\n",
    "- **Random Forest**: '\"Bosques Aleatorios\"' es una combinación de árboles predictores tal que cada árbol depende de los valores de un vector aleatorio probado independientemente y con la misma distribución para cada uno de estos. Es una modificación sustancial de bagging que construye una larga colección de árboles no correlacionados y luego los promedia\n",
    "\n",
    "![](https://miro.medium.com/max/1400/1*H3nZElqhfOE35AFAq8gy0A.png)\n",
    "![](https://miro.medium.com/max/1184/1*i0o8mjFfCn-uD79-F1Cqkw.png)\n",
    "\n",
    "Cada modelo de entrenamiento se guardará en el diccionario ML_models junto con su identificador. Esto para un almacenamiento más sencillo y un código más simple."
   ]
  },
  {
   "cell_type": "code",
   "execution_count": 4,
   "metadata": {
    "colab": {},
    "colab_type": "code",
    "id": "f1Vy-HeTww-A"
   },
   "outputs": [],
   "source": [
    "ML_models = {}\n",
    "# Indice - nombre\n",
    "model_index = ['LR','RF','KNN']\n",
    "# Arranque inicial de los modelos con parametros\n",
    "model_sklearn = [LogisticRegression(solver='liblinear',random_state=0),\n",
    "                 RandomForestClassifier(n_estimators=100,random_state=0),\n",
    "                 KNeighborsClassifier(n_neighbors=2)]"
   ]
  },
  {
   "cell_type": "code",
   "execution_count": 5,
   "metadata": {
    "colab": {
     "base_uri": "https://localhost:8080/",
     "height": 259
    },
    "colab_type": "code",
    "executionInfo": {
     "elapsed": 1020,
     "status": "ok",
     "timestamp": 1591014621728,
     "user": {
      "displayName": "Andres Cely Jimenez",
      "photoUrl": "https://lh3.googleusercontent.com/a-/AOh14GhYvJ5qpEaViPcpDONlZCHoJR2eIYSKFxHVrTo=s64",
      "userId": "11808887833195998682"
     },
     "user_tz": 300
    },
    "id": "mSzOkLt7ww-E",
    "outputId": "e70dcd42-235b-4149-8d57-785c61fa9f8c",
    "scrolled": true
   },
   "outputs": [
    {
     "name": "stdout",
     "output_type": "stream",
     "text": [
      "{'LR': LogisticRegression(C=1.0, class_weight=None, dual=False, fit_intercept=True,\n",
      "          intercept_scaling=1, max_iter=100, multi_class='warn',\n",
      "          n_jobs=None, penalty='l2', random_state=0, solver='liblinear',\n",
      "          tol=0.0001, verbose=0, warm_start=False), 'RF': RandomForestClassifier(bootstrap=True, class_weight=None, criterion='gini',\n",
      "            max_depth=None, max_features='auto', max_leaf_nodes=None,\n",
      "            min_impurity_decrease=0.0, min_impurity_split=None,\n",
      "            min_samples_leaf=1, min_samples_split=2,\n",
      "            min_weight_fraction_leaf=0.0, n_estimators=100, n_jobs=None,\n",
      "            oob_score=False, random_state=0, verbose=0, warm_start=False), 'KNN': KNeighborsClassifier(algorithm='auto', leaf_size=30, metric='minkowski',\n",
      "           metric_params=None, n_jobs=None, n_neighbors=2, p=2,\n",
      "           weights='uniform')}\n"
     ]
    }
   ],
   "source": [
    "# Entrenamiento\n",
    "for name,model in zip(model_index,model_sklearn):\n",
    "    # Entrenamiento del modelo (Fit)\n",
    "    ML_models[name] = model.fit(X_train,y_train)\n",
    "print(ML_models)"
   ]
  },
  {
   "cell_type": "markdown",
   "metadata": {
    "colab_type": "text",
    "id": "VucVTsp2ww-J"
   },
   "source": [
    "### Metricas de evlauación\n",
    "\n",
    "Despúes de entrenar los modelos, se validan los resultados. Para esto, se debe predecir el conjunto de datos de prueba (X_test) y ser comparado con el resultado real (y_test).\n",
    "\n",
    "Entre las diferentes métricas para evaluar, haremos uso de las siguientes, entendiendolas e interpretandolas una a una en el ultimo ciclo OSEMN:\n",
    "\n",
    "- **Matriz de confusión**\n",
    "- **Accuracy (Desempeño estandar)**\n",
    "- **F1 Score**\n",
    "- **ROC-AUC Score**"
   ]
  },
  {
   "cell_type": "code",
   "execution_count": 6,
   "metadata": {
    "colab": {
     "base_uri": "https://localhost:8080/",
     "height": 173
    },
    "colab_type": "code",
    "executionInfo": {
     "elapsed": 1649,
     "status": "ok",
     "timestamp": 1591014627475,
     "user": {
      "displayName": "Andres Cely Jimenez",
      "photoUrl": "https://lh3.googleusercontent.com/a-/AOh14GhYvJ5qpEaViPcpDONlZCHoJR2eIYSKFxHVrTo=s64",
      "userId": "11808887833195998682"
     },
     "user_tz": 300
    },
    "id": "IaUOZn7dww-K",
    "outputId": "8a3e16e5-0cec-4450-acf3-406c8b8d5f85",
    "scrolled": true
   },
   "outputs": [
    {
     "name": "stdout",
     "output_type": "stream",
     "text": [
      "LR\n",
      "Desempeño básico: 0.73046875\n",
      "\n",
      "RF\n",
      "Desempeño básico: 0.734375\n",
      "\n",
      "KNN\n",
      "Desempeño básico: 0.73046875\n",
      "\n"
     ]
    }
   ],
   "source": [
    "# Evaluación de resultados y metricas\n",
    "model_summary = []\n",
    "for name,model in zip(model_index,model_sklearn):\n",
    "    # Predicción con el conjunto de datos de prueba\n",
    "    preds = model.predict(X_test)\n",
    "    # Desempeño básico\n",
    "    print(name)\n",
    "    print('Desempeño básico: '+str(model.score(X_test,y_test))+'\\n')\n",
    "    # Resultados guardados\n",
    "    fpr, tpr, thresholds = roc_curve(y_test,model.predict_proba(X_test)[:,1])\n",
    "    model_summary.append([name,\n",
    "                          confusion_matrix(y_test,preds),classification_report(y_test,preds),\n",
    "                          accuracy_score(y_test,preds),\n",
    "                          f1_score(y_test,preds,average='weighted'),\n",
    "                          {'roc':roc_auc_score(y_test,model.predict_proba(X_test)[:,1]),'fpr':fpr, 'tpr':tpr, 'thresholds':thresholds}])"
   ]
  },
  {
   "cell_type": "markdown",
   "metadata": {
    "colab_type": "text",
    "id": "u17TgdMyww-V"
   },
   "source": [
    "## Interpretación: Analisis sobre el desempeño de los modelos"
   ]
  },
  {
   "cell_type": "markdown",
   "metadata": {
    "colab_type": "text",
    "id": "s3Chwsjqww-W"
   },
   "source": [
    "### Matriz de confusión\n",
    "\n",
    "La matriz de confusión es una técnica utilizada para resumir el rendimiento de un algoritmo de clasificación, es decir, la variable objetivo es categorica.\n",
    "\n",
    "![](https://www.juanbarrios.com/wp-content/uploads/2019/07/matriz.jpg)\n",
    "\n",
    "Desde un aspecto clínico:\n",
    "\n",
    "- **Verdaderos Positivos (VP):** Son aquellos casos en los que el médico predijo *SÍ* (tienen la enfermedad) y en realidad, si tienen la enfermedad. Por lo tanto, el médico ha predicho correctamente que el paciente tiene la enfermedad.\n",
    "\n",
    "- **Verdaderos Negativos (VN):** Casos en los que el médico predijo NO (no tienen la enfermedad) y en realidad, no tienen la enfermedad. Por lo tanto, el médico ha predicho correctamente que el paciente no tiene la enfermedad.\n",
    "\n",
    "- **Falsos Positivos (FP):** Aquerllos casos en los que el médico predijo SÍ (tienen la enfermedad) y en realidad, no tienen la enfermedad. Donde el médico se ha equivocado, diagnosticando una enfermedad que en realidad no esta presente.\n",
    "\n",
    "- **Falsos Negativos (FN):** Casos en los que el médico predijo NO (no tienen la enfermedad) y en realidad, si tienen la enfermedad. Donde el médico se ha equivocado, al no dar con la enfermedad."
   ]
  },
  {
   "cell_type": "code",
   "execution_count": 7,
   "metadata": {
    "colab": {},
    "colab_type": "code",
    "id": "acce89Miww-X"
   },
   "outputs": [],
   "source": [
    "def show_info_confusion_matrix(conf_matrix, title):\n",
    "    plt.figure(figsize=(4, 4))\n",
    "    sns.heatmap(conf_matrix, xticklabels=[\"Positivo (1)\",\"Negativo (0)\"], yticklabels=[\"Positivo (1)\",\"Negativo (0)\"], annot=True, fmt=\"d\");\n",
    "    plt.title(\"Matriz de confusión para \" + title.upper())\n",
    "    plt.ylabel('Observación')\n",
    "    plt.xlabel('Predicción')\n",
    "    plt.show()"
   ]
  },
  {
   "cell_type": "code",
   "execution_count": 8,
   "metadata": {
    "colab": {
     "base_uri": "https://localhost:8080/",
     "height": 921
    },
    "colab_type": "code",
    "executionInfo": {
     "elapsed": 1277,
     "status": "ok",
     "timestamp": 1591014638034,
     "user": {
      "displayName": "Andres Cely Jimenez",
      "photoUrl": "https://lh3.googleusercontent.com/a-/AOh14GhYvJ5qpEaViPcpDONlZCHoJR2eIYSKFxHVrTo=s64",
      "userId": "11808887833195998682"
     },
     "user_tz": 300
    },
    "id": "oLXGgIGPww-d",
    "outputId": "0535af64-17d3-45e4-8910-adae373f786e"
   },
   "outputs": [
    {
     "name": "stdout",
     "output_type": "stream",
     "text": [
      "LR\n"
     ]
    },
    {
     "data": {
      "image/png": "[encoded data removed]",
      "text/plain": [
       "<Figure size 288x288 with 2 Axes>"
      ]
     },
     "metadata": {},
     "output_type": "display_data"
    },
    {
     "name": "stdout",
     "output_type": "stream",
     "text": [
      "RF\n"
     ]
    },
    {
     "data": {
      "image/png": "[encoded data removed]",
      "text/plain": [
       "<Figure size 288x288 with 2 Axes>"
      ]
     },
     "metadata": {},
     "output_type": "display_data"
    },
    {
     "name": "stdout",
     "output_type": "stream",
     "text": [
      "KNN\n"
     ]
    },
    {
     "data": {
      "image/png": "[encoded data removed]",
      "text/plain": [
       "<Figure size 288x288 with 2 Axes>"
      ]
     },
     "metadata": {},
     "output_type": "display_data"
    }
   ],
   "source": [
    "for model in model_summary:\n",
    "    print(model[0])\n",
    "    show_info_confusion_matrix(model[1], model[0])"
   ]
  },
  {
   "cell_type": "markdown",
   "metadata": {
    "colab_type": "text",
    "id": "cXjC8x51ww-h"
   },
   "source": [
    "###  Accuracy & F1-Score: Reporte de la clasificación\n",
    "      \n",
    "**Accuracy (Exactitud):** Es la medida de rendimiento mas simple e intuitiva, que hace referencia a una relación entre las observaciones correctamente predichas (VP+VN) y las totales (todos los resultados). Sin embargo, la exactitud no debe ser considerada una buena medida cuando la muestra no es simétrica o esta sesgada *(Como se vio en el grafico de distribución y balance de la varaible objetivo)*, en otras palabras, no se expresa la afinidad y la implicación de las tasas de falsos positivos y negativos.\n",
    "\n",
    "        F1 = VP+VN / VP+VN+FN+FP\n",
    "\n",
    "**F1 Score:** Esta métrica es el promedio ponderado entre la precisión y la sensibilidad. Por lo tanto, cuando el costo o distribución de los falsos positivos y los falsos negativos es muy diferentes, F1 es una de las mejores medidas para evaluar y comparar clasificadores.\n",
    "\n",
    "        F1 = 2 x (precision x recall)/(precision + recall)\n",
    "        \n",
    "> ***Precisión*** - Esta métrica es la relación que existe entre las observaciones positivas predichas correctamente y las observaciones positivas predichas totales, lo que significa que una alta precisión denota un tasa de falsos positivos baja.\n",
    "> \n",
    "> Precision = VP/VP+FP\n",
    "> \n",
    "> ***Sensibilidad (Recall)*** - Hace referencia a la razón entre las observaciones positivas correctamente predichas y todas las observaciones en la clase real, dando respuesta a cuantos de los valores verdaderos de una clases se predijeron adecuadamente.\n",
    "> \n",
    "> Recall = VP/VP+FN\n",
    "\n",
    "\n",
    "![](https://miro.medium.com/max/1400/1*LYdQZjwu4CnovJeh_K1xGQ.png)\n",
    "        \n",
    "Más Información: \n",
    "- http://joshlawman.com/metrics-classification-report-breakdown-precision-recall-f1/\n",
    "- https://blog.exsilio.com/all/accuracy-precision-recall-f1-score-interpretation-of-performance-measures/"
   ]
  },
  {
   "cell_type": "code",
   "execution_count": 9,
   "metadata": {
    "colab": {
     "base_uri": "https://localhost:8080/",
     "height": 639
    },
    "colab_type": "code",
    "executionInfo": {
     "elapsed": 771,
     "status": "ok",
     "timestamp": 1591014647739,
     "user": {
      "displayName": "Andres Cely Jimenez",
      "photoUrl": "https://lh3.googleusercontent.com/a-/AOh14GhYvJ5qpEaViPcpDONlZCHoJR2eIYSKFxHVrTo=s64",
      "userId": "11808887833195998682"
     },
     "user_tz": 300
    },
    "id": "jdF5QOlLww-i",
    "outputId": "5acfe1e3-65a4-45e4-ccb7-da0ce82a59cb"
   },
   "outputs": [
    {
     "name": "stdout",
     "output_type": "stream",
     "text": [
      "LR\n",
      "Accuracy: 0.73046875\n",
      "F1-Score: 0.7238592242076398\n",
      "              precision    recall  f1-score   support\n",
      "\n",
      "           0       0.77      0.84      0.80       167\n",
      "           1       0.64      0.53      0.58        89\n",
      "\n",
      "   micro avg       0.73      0.73      0.73       256\n",
      "   macro avg       0.70      0.68      0.69       256\n",
      "weighted avg       0.72      0.73      0.72       256\n",
      "\n",
      "RF\n",
      "Accuracy: 0.734375\n",
      "F1-Score: 0.7303303225359912\n",
      "              precision    recall  f1-score   support\n",
      "\n",
      "           0       0.78      0.83      0.80       167\n",
      "           1       0.63      0.56      0.60        89\n",
      "\n",
      "   micro avg       0.73      0.73      0.73       256\n",
      "   macro avg       0.71      0.69      0.70       256\n",
      "weighted avg       0.73      0.73      0.73       256\n",
      "\n",
      "KNN\n",
      "Accuracy: 0.73046875\n",
      "F1-Score: 0.702914548334807\n",
      "              precision    recall  f1-score   support\n",
      "\n",
      "           0       0.73      0.92      0.82       167\n",
      "           1       0.72      0.37      0.49        89\n",
      "\n",
      "   micro avg       0.73      0.73      0.73       256\n",
      "   macro avg       0.73      0.65      0.65       256\n",
      "weighted avg       0.73      0.73      0.70       256\n",
      "\n"
     ]
    }
   ],
   "source": [
    "for model in model_summary:\n",
    "    print(model[0])\n",
    "    print('Accuracy: '+str(model[3]))\n",
    "    print('F1-Score: '+str(model[4]))\n",
    "    print(model[2])"
   ]
  },
  {
   "cell_type": "markdown",
   "metadata": {
    "colab_type": "text",
    "id": "EvIumcq9ww-o"
   },
   "source": [
    "### ROC - AUC\n",
    "La curva ROC (Característica Operativa del Receptor) Representa la tasa de verdaderos positivos frente a la tasa de falsos\n",
    "positivos bajo un umbral de clasificación, lo que nos dice qué tan bueno puede distinguir el modelo entre dos cosas (por ejemplo, si un paciente tiene una enfermedad o no). AUC no es mas que el área bajo la curva ROC\n",
    "\n",
    "Mas información (video): https://www.youtube.com/watch?v=OAl6eAyP-yo"
   ]
  },
  {
   "cell_type": "code",
   "execution_count": 10,
   "metadata": {
    "colab": {},
    "colab_type": "code",
    "id": "Qy_JsKd_ww-q"
   },
   "outputs": [],
   "source": [
    "def plot_roc(fpr,tpr,title):\n",
    "    plt.plot([0,1],[0,1],'k--')\n",
    "    plt.plot(fpr,tpr, label='Knn')\n",
    "    plt.xlabel('fpr')\n",
    "    plt.ylabel('tpr')\n",
    "    plt.title('ROC curve for '+title)\n",
    "    plt.show()"
   ]
  },
  {
   "cell_type": "code",
   "execution_count": 11,
   "metadata": {
    "colab": {},
    "colab_type": "code",
    "id": "VhQTy8Wpww-0",
    "outputId": "50b30af4-597e-4756-9944-1c5d103d8611",
    "scrolled": false
   },
   "outputs": [
    {
     "name": "stdout",
     "output_type": "stream",
     "text": [
      "LR\n",
      "AUC: 0.8266164300612259\n"
     ]
    },
    {
     "data": {
      "image/png": "[encoded data removed]",
      "text/plain": [
       "<Figure size 432x288 with 1 Axes>"
      ]
     },
     "metadata": {},
     "output_type": "display_data"
    },
    {
     "name": "stdout",
     "output_type": "stream",
     "text": [
      "RF\n",
      "AUC: 0.8180380811410887\n"
     ]
    },
    {
     "data": {
      "image/png": "[encoded data removed]",
      "text/plain": [
       "<Figure size 432x288 with 1 Axes>"
      ]
     },
     "metadata": {},
     "output_type": "display_data"
    },
    {
     "name": "stdout",
     "output_type": "stream",
     "text": [
      "KNN\n",
      "AUC: 0.7298324698916774\n"
     ]
    },
    {
     "data": {
      "image/png": "[encoded data removed]",
      "text/plain": [
       "<Figure size 432x288 with 1 Axes>"
      ]
     },
     "metadata": {},
     "output_type": "display_data"
    }
   ],
   "source": [
    "for model in model_summary:\n",
    "    print(model[0])\n",
    "    print('AUC: '+str(model[5]['roc']))\n",
    "    plot_roc(model[5]['fpr'],model[5]['tpr'],model[0])"
   ]
  },
  {
   "cell_type": "markdown",
   "metadata": {
    "colab_type": "text",
    "id": "E7LgXfnZww-3"
   },
   "source": [
    "## Optimización - Hyperparametros\n",
    "**Caso de uso: Mejorar los desempeños de KNN a partir de GridSearch y K-fold Cross Validation**\n",
    "\n",
    "**K-fold Cross Validation** la validación cruzada por K-fold, es aquella explicada anteriormente, donde se hace K numero de iteraciones, con diferentes datos para entrenamiento y validación, y se selecciona la mejor combinación.\n",
    "\n",
    "**GridSearch** la una búsqueda por cuadrícula es un enfoque para el ajuste de hiperparámetros que construirá y evaluará metódicamente un modelo para cada combinación de parámetros de algoritmo especificados en una cuadrícula.\n",
    "\n",
    "Consideremos el siguiente ejemplo:\n",
    "\n",
    "Supongamos que un modelo de aprendizaje automático X toma hiperparámetros a1, a2 y a3. En la búsqueda por cuadrícula, se define el rango de posibles valores para cada uno de los hiperparámetros a1, a2 y a3. Esto es como una matriz de valores para cada uno de los hiperparámetros. Ahora, la técnica de búsqueda de cuadrícula construirá muchas versiones de X con todas las combinatorias posibles de valores (a1, a2 y a3) que definió en primer lugar. Este rango de valores de hiperparámetro se denomina cuadrícula.\n",
    "\n",
    "Supongamos que definió la cuadrícula como:\n",
    "- a1 = [0,1,2,3,4,5]\n",
    "- a2 = [10,20,30,40,5,60]\n",
    "- a3 = [105,105,110,115,120,125]\n",
    "\n",
    "El algoritmo comenzará con la combinación de [0,10,105], y terminará con [5,60,125]. Pasará por todas las combinaciones intermedias entre estos dos, esto hace que la búsqueda por cuadrícula sea muy costosa computacionalmente."
   ]
  },
  {
   "cell_type": "code",
   "execution_count": 12,
   "metadata": {
    "colab": {
     "base_uri": "https://localhost:8080/",
     "height": 52
    },
    "colab_type": "code",
    "executionInfo": {
     "elapsed": 2734,
     "status": "ok",
     "timestamp": 1591014664808,
     "user": {
      "displayName": "Andres Cely Jimenez",
      "photoUrl": "https://lh3.googleusercontent.com/a-/AOh14GhYvJ5qpEaViPcpDONlZCHoJR2eIYSKFxHVrTo=s64",
      "userId": "11808887833195998682"
     },
     "user_tz": 300
    },
    "id": "OYV4xooZww-4",
    "outputId": "6040e3a8-048c-44bc-dbba-4131b18a1e1b"
   },
   "outputs": [
    {
     "name": "stdout",
     "output_type": "stream",
     "text": [
      "Mejores Desempeños:0.787109375\n",
      "Mejores Parametros: {'n_neighbors': 14}\n"
     ]
    }
   ],
   "source": [
    "#In el caso de KNN el parametro ajustable es el numero de vecinos (n_neighbors)\n",
    "param_grid = {'n_neighbors':np.arange(1,50)} # de 1 a 50 vecinos\n",
    "\n",
    "knn = KNeighborsClassifier()\n",
    "\n",
    "# El algoritmo tendra que correr 50 veces (numero de vecinos) * 5 veces (k iteraciones de validacion cruzada) = 250 veces\n",
    "# Seleccionado Accuracy como metrica de evaluación y comparación.\n",
    "knn_cv= GridSearchCV(knn,param_grid,cv=5, scoring='accuracy')\n",
    "knn_cv.fit(X_train,y_train)\n",
    "\n",
    "print(\"Mejores Desempeños:\" + str(knn_cv.best_score_))\n",
    "print(\"Mejores Parametros: \" + str(knn_cv.best_params_))"
   ]
  },
  {
   "cell_type": "code",
   "execution_count": 13,
   "metadata": {
    "colab": {
     "base_uri": "https://localhost:8080/",
     "height": 353
    },
    "colab_type": "code",
    "executionInfo": {
     "elapsed": 859,
     "status": "ok",
     "timestamp": 1591014667608,
     "user": {
      "displayName": "Andres Cely Jimenez",
      "photoUrl": "https://lh3.googleusercontent.com/a-/AOh14GhYvJ5qpEaViPcpDONlZCHoJR2eIYSKFxHVrTo=s64",
      "userId": "11808887833195998682"
     },
     "user_tz": 300
    },
    "id": "nbnNzwhZww_A",
    "outputId": "6ded39ac-bd8e-4139-b0f2-76c91d6dd549"
   },
   "outputs": [
    {
     "data": {
      "image/png": "[encoded data removed]",
      "text/plain": [
       "<Figure size 288x288 with 2 Axes>"
      ]
     },
     "metadata": {},
     "output_type": "display_data"
    },
    {
     "name": "stdout",
     "output_type": "stream",
     "text": [
      "Accuracy: 0.734375\n",
      "F1: 0.7225805793368643\n",
      "ROC: 0.8215367018771446\n"
     ]
    }
   ],
   "source": [
    "# Resultados para Test\n",
    "preds = knn_cv.predict(X_test)\n",
    "# Resultados guardados\n",
    "show_info_confusion_matrix(confusion_matrix(y_test,preds), 'Knn Optimizado')\n",
    "print('Accuracy: '+ str(accuracy_score(y_test,preds)))\n",
    "print('F1: '+ str(f1_score(y_test,preds,average='weighted')))\n",
    "print('ROC: '+ str(roc_auc_score(y_test,knn_cv.predict_proba(X_test)[:,1])))"
   ]
  },
  {
   "cell_type": "markdown",
   "metadata": {},
   "source": [
    "## Usar el predictor\n",
    "En la mayoría de articulos técnicos y libros, el proceso termina cuando se encuentra un valor Accuracy adecuado. Cuando uno inicia con aprendizaje de máquinas quiere realizar pruebas y obtener predictores. Para finalizar, vamos a crear un vector que represente los datos de un (1) paciente y buscar la predicción."
   ]
  },
  {
   "cell_type": "code",
   "execution_count": 14,
   "metadata": {},
   "outputs": [
    {
     "data": {
      "text/html": [
       "<div>\n",
       "<style scoped>\n",
       "    .dataframe tbody tr th:only-of-type {\n",
       "        vertical-align: middle;\n",
       "    }\n",
       "\n",
       "    .dataframe tbody tr th {\n",
       "        vertical-align: top;\n",
       "    }\n",
       "\n",
       "    .dataframe thead th {\n",
       "        text-align: right;\n",
       "    }\n",
       "</style>\n",
       "<table border=\"1\" class=\"dataframe\">\n",
       "  <thead>\n",
       "    <tr style=\"text-align: right;\">\n",
       "      <th></th>\n",
       "      <th>Pregnancies</th>\n",
       "      <th>Glucose</th>\n",
       "      <th>BloodPressure</th>\n",
       "      <th>SkinThickness</th>\n",
       "      <th>Insulin</th>\n",
       "      <th>BMI</th>\n",
       "      <th>DiabetesPedigreeFunction</th>\n",
       "      <th>Age</th>\n",
       "    </tr>\n",
       "  </thead>\n",
       "  <tbody>\n",
       "    <tr>\n",
       "      <th>672</th>\n",
       "      <td>1.827813</td>\n",
       "      <td>-1.765076</td>\n",
       "      <td>2.77908</td>\n",
       "      <td>-0.695245</td>\n",
       "      <td>-1.061917</td>\n",
       "      <td>0.443156</td>\n",
       "      <td>-0.564389</td>\n",
       "      <td>1.170732</td>\n",
       "    </tr>\n",
       "  </tbody>\n",
       "</table>\n",
       "</div>"
      ],
      "text/plain": [
       "     Pregnancies   Glucose  BloodPressure  SkinThickness   Insulin       BMI  \\\n",
       "672     1.827813 -1.765076        2.77908      -0.695245 -1.061917  0.443156   \n",
       "\n",
       "     DiabetesPedigreeFunction       Age  \n",
       "672                 -0.564389  1.170732  "
      ]
     },
     "execution_count": 14,
     "metadata": {},
     "output_type": "execute_result"
    }
   ],
   "source": [
    "#parametros que espera el modelo predictor\n",
    "X = X_test.sample(1)\n",
    "X"
   ]
  },
  {
   "cell_type": "code",
   "execution_count": 17,
   "metadata": {},
   "outputs": [
    {
     "name": "stdout",
     "output_type": "stream",
     "text": [
      "Predicción con el modelo  LR  es  ENFERMO  con probabilidad sano  [0.13541649]  y de enfermo  [0.86458351]\n",
      "Predicción con el modelo  RF  es  ENFERMO  con probabilidad sano  [0.12]  y de enfermo  [0.88]\n",
      "Predicción con el modelo  KNN  es  ENFERMO  con probabilidad sano  [0.]  y de enfermo  [1.]\n"
     ]
    }
   ],
   "source": [
    "X = X_test.sample(1)\n",
    "# Evaluación de resultados y metricas\n",
    "model_summary = []\n",
    "for name,model in zip(model_index,model_sklearn):\n",
    "    # Predicción con el conjunto de datos de prueba\n",
    "    probability_class_1 = model.predict_proba(X)[:, 1]\n",
    "    probability_class_0 = model.predict_proba(X)[:, 0]\n",
    "    \n",
    "    if probability_class_1 >= probability_class_0:\n",
    "        resultado ='ENFERMO'\n",
    "    else:\n",
    "        resultado = 'SANO'\n",
    "    \n",
    "    # Predicción por modelo\n",
    "    print('Predicción con el modelo ', name, ' es ', resultado,' con probabilidad sano ', probability_class_0, \n",
    "          ' y de enfermo ',probability_class_1)\n"
   ]
  },
  {
   "cell_type": "markdown",
   "metadata": {},
   "source": [
    "## Fin etapa de modelamiento e interpretación\n",
    "\n",
    "El aprendizaje de máquinas es un proceso riguroso y completo, que requiere un entendimiento profundo de las variables, correlaciones y resultados. No basta con buscar \"buenas cifras\" en los parámetros de evaluación; es preciso ahondar y entender claramente qué hace cada modelo y cómo lo hace, para dar resultados fiables. Es preciso recodar que en el mundo clínico, es necesaria la rigurosidad en los procesos. \n",
    "\n",
    "¡La práctica hace al maestro!"
   ]
  }
 ],
 "metadata": {
  "colab": {
   "collapsed_sections": [],
   "name": "2. ML en investigación en Salud - Modelamiento e Interpretación.ipynb",
   "provenance": []
  },
  "kernelspec": {
   "display_name": "Python 3",
   "language": "python",
   "name": "python3"
  },
  "language_info": {
   "codemirror_mode": {
    "name": "ipython",
    "version": 3
   },
   "file_extension": ".py",
   "mimetype": "text/x-python",
   "name": "python",
   "nbconvert_exporter": "python",
   "pygments_lexer": "ipython3",
   "version": "3.7.7"
  }
 },
 "nbformat": 4,
 "nbformat_minor": 1
}
